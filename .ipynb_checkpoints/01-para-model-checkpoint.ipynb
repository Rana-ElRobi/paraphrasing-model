{
 "cells": [
  {
   "cell_type": "markdown",
   "metadata": {},
   "source": [
    "Import needed packages"
   ]
  },
  {
   "cell_type": "code",
   "execution_count": 154,
   "metadata": {},
   "outputs": [],
   "source": [
    "import re\n",
    "import csv\n",
    "import string\n",
    "import nltk\n",
    "from nltk.tokenize import word_tokenize\n",
    "from nltk.tokenize import RegexpTokenizer\n",
    "from nltk.corpus import stopwords\n",
    "from nltk import pos_tag\n",
    "from nltk.stem import WordNetLemmatizer"
   ]
  },
  {
   "cell_type": "markdown",
   "metadata": {},
   "source": [
    "Function maps tags to pos in lemmetizing"
   ]
  },
  {
   "cell_type": "code",
   "execution_count": 120,
   "metadata": {},
   "outputs": [],
   "source": [
    "# WordNet only cares about 5 parts of speech.\n",
    "# The other parts of speech will be tagged as nouns.\n",
    "\n",
    "part = {\n",
    "    'N' : 'n',\n",
    "    'V' : 'v',\n",
    "    'J' : 'a',\n",
    "    'S' : 's',\n",
    "    'R' : 'r'\n",
    "}\n",
    "\n",
    "def convert_tag(penn_tag):\n",
    "    '''\n",
    "    convert_tag() accepts the **first letter** of a Penn part-of-speech tag,\n",
    "    then uses a dict lookup to convert it to the appropriate WordNet tag.\n",
    "    '''\n",
    "    if penn_tag in part.keys():\n",
    "        return part[penn_tag]\n",
    "    else:\n",
    "        # other parts of speech will be tagged as nouns\n",
    "        return 'n'"
   ]
  },
  {
   "cell_type": "markdown",
   "metadata": {},
   "source": [
    "Function that do all the pre-processing on given data\n",
    "- set all characters to lowercase\n",
    "- apply word tokenize\n",
    "- remove puncituation from the list of words\n",
    "- filter out the stop words\n",
    "- Annotate filtered words\n",
    "- lemmetize words using tags\n",
    "- return final lemmetization resultant words "
   ]
  },
  {
   "cell_type": "code",
   "execution_count": 121,
   "metadata": {},
   "outputs": [],
   "source": [
    "# clean input data and return output in data-fram formate\n",
    "def cleanData (senten):\n",
    "    ## make all characters lower case\n",
    "    senten = senten.lower()\n",
    "    \n",
    "    ## Word Tokenize current sample question\n",
    "    words_pun = word_tokenize(senten) ## used one\n",
    "    #print (\"words list with punc: \", words_pun)\n",
    "    \n",
    "    ## Remove punctuation after word tokenizing\n",
    "    punct = set(string.punctuation)\n",
    "    #print(punct)\n",
    "    real_words= [x for x in words_pun if x not in punct]\n",
    "    #print( \"real_words without punctuation : \",real_words)\n",
    "    \n",
    "    ## Remove all common stop words in english language\n",
    "    stop_words = set(stopwords.words(\"english\"))\n",
    "    filtered_words = [w for w in real_words if not w in stop_words]\n",
    "    #print(\"filtered_words : \",filtered_words)\n",
    "    \n",
    "    ## Annotate words (get tags for filtered_words)\n",
    "    words_tags = nltk.pos_tag(filtered_words)\n",
    "    #print (\"words_tags : \",words_tags)\n",
    "    \n",
    "    ## Lemmetizing Words\n",
    "    lemmatizer = WordNetLemmatizer()\n",
    "    words_lemms = []\n",
    "    for (w,t) in words_tags:\n",
    "        #print (w,convert_tag(t[0]))\n",
    "        words_lemms.append(lemmatizer.lemmatize(w,pos=convert_tag(t[0])))\n",
    "    #print(\"words_lemms : \", words_lemms)\n",
    "    return (words_lemms)\n"
   ]
  },
  {
   "cell_type": "markdown",
   "metadata": {},
   "source": [
    "## Here is the Main body of the file"
   ]
  },
  {
   "cell_type": "markdown",
   "metadata": {},
   "source": [
    "### Pre-processing"
   ]
  },
  {
   "cell_type": "markdown",
   "metadata": {},
   "source": [
    "- First Lets load the Data "
   ]
  },
  {
   "cell_type": "code",
   "execution_count": 171,
   "metadata": {
    "scrolled": true
   },
   "outputs": [],
   "source": [
    "data_set = csv.reader(open('NBB_intents.csv'), delimiter=',',quoting=csv.QUOTE_NONE,skipinitialspace=True)\n",
    "# creat new list for data after re-shaping\n",
    "reshaped_dataset = []"
   ]
  },
  {
   "cell_type": "markdown",
   "metadata": {},
   "source": [
    "- Clean and reshape input data"
   ]
  },
  {
   "cell_type": "code",
   "execution_count": 172,
   "metadata": {},
   "outputs": [],
   "source": [
    "# read all questions samples \n",
    "for row in data_set:\n",
    "    curr_senten = row\n",
    "    # new set [\"intent\",[\"cleaned question words\"]]\n",
    "    reshaped_dataset.append([curr_senten[1],cleanData(curr_senten[0])])\n",
    "    "
   ]
  },
  {
   "cell_type": "markdown",
   "metadata": {},
   "source": [
    "- View sample of re-shaped data "
   ]
  },
  {
   "cell_type": "code",
   "execution_count": 173,
   "metadata": {},
   "outputs": [
    {
     "name": "stdout",
     "output_type": "stream",
     "text": [
      "record 1 :  ['about', ['tell', 'co-creation', 'room']]\n",
      "record 1, part 2 :  ['tell', 'co-creation', 'room']\n"
     ]
    }
   ],
   "source": [
    "print(\"record 1 : \",reshaped_dataset[0])\n",
    "print(\"record 1, part 2 : \",reshaped_dataset[0][1])"
   ]
  },
  {
   "cell_type": "markdown",
   "metadata": {},
   "source": [
    "> Now, Lets do simple classification for sentence "
   ]
  },
  {
   "cell_type": "markdown",
   "metadata": {},
   "source": [
    "## Simple questions classifier "
   ]
  },
  {
   "cell_type": "markdown",
   "metadata": {},
   "source": [
    "In This step we will do very naive classifier, that classify the question into direct and indirect questions.\n",
    "- In which `direct` questions contain word == `intent` name\n",
    "- While, `Indirect` question dont."
   ]
  },
  {
   "cell_type": "markdown",
   "metadata": {},
   "source": [
    "> Hint : `Direct` question will be labelled by `d` , while `indirect` will be labbeled with `i`"
   ]
  },
  {
   "cell_type": "code",
   "execution_count": 190,
   "metadata": {},
   "outputs": [],
   "source": [
    "def classifyQuestion (ques):\n",
    "    # partition input question to (intent,[body])\n",
    "    ques_intent = ques[0].lower()\n",
    "    ques_body = ques[1]\n",
    "    \n",
    "    #print(\"ques_intent:\",ques_intent)\n",
    "    #print(\"ques_body:\",ques_body)\n",
    "    \n",
    "    ## tag and lemm the intent first\n",
    "    # !! tagging for single word issue !!\n",
    "    \n",
    "    #ques_intent_tag = nltk.pos_tag(ques_intent)\n",
    "    #print (\"ques_intent_tag : \",ques_intent_tag)\n",
    "    \n",
    "    lemmatizer = WordNetLemmatizer()\n",
    "    ques_intent_lemms =lemmatizer.lemmatize(ques_intent)\n",
    "    #ques_intent_lemms =lemmatizer.lemmatize(ques_intent_tag[0],pos=convert_tag(ques_intent_tag[1][0]))\n",
    "    #print(\"ques_intent_lemms : \", ques_intent_lemms)\n",
    "    \n",
    "    ## search in body list for word matches intent\n",
    "    \n",
    "    # build regular expression\n",
    "    reg_search_str = '.*(' + ques_intent_lemms + ').*'\n",
    "    #print(\"reg_search_str: \",reg_search_str)\n",
    "    \n",
    "    regex=re.compile(reg_search_str)\n",
    "    #print(\"regex : \",regex)\n",
    "    \n",
    "    # save matches results in var\n",
    "    matched = [m.group(0) for l in ques_body for m in [regex.search(l)] if m]\n",
    "    #print(\"matched:\",matched)\n",
    "    \n",
    "    ## check if var not empty\n",
    "    emptyList = [] # create empty list for checking what I have\n",
    "    if matched != emptyList : \n",
    "        label = 'd' # direct\n",
    "    else :\n",
    "        label = 'i' # indirect\n",
    "    ## Check lable\n",
    "    #print (\"label\",label)\n",
    "\n",
    "    # Return Lable\n",
    "    return label"
   ]
  },
  {
   "cell_type": "markdown",
   "metadata": {},
   "source": [
    "- Apply the classifier and Update data with resultant lable "
   ]
  },
  {
   "cell_type": "code",
   "execution_count": 200,
   "metadata": {},
   "outputs": [
    {
     "name": "stdout",
     "output_type": "stream",
     "text": [
      "['about', ['tell', 'co-creation', 'room'], 'i']\n"
     ]
    }
   ],
   "source": [
    "# create new empty data set to carry labelled data\n",
    "labelled_dataste = []\n",
    "\n",
    "# loop on data\n",
    "for i in new_dataset:\n",
    "    curr_lable = classifyQuestion(i)\n",
    "    # check if already been labelled\n",
    "    if len(i) < 3 :\n",
    "        #update current sample\n",
    "        i.append(curr_lable)\n",
    "        \n",
    "    # Fill new labelled set\n",
    "    labelled_dataste.append(i)\n",
    "    \n",
    "print (labelled_dataste[0])"
   ]
  },
  {
   "cell_type": "markdown",
   "metadata": {},
   "source": [
    "# Section for fast testing"
   ]
  },
  {
   "cell_type": "code",
   "execution_count": 159,
   "metadata": {},
   "outputs": [
    {
     "data": {
      "text/plain": [
       "'.*(dog).*'"
      ]
     },
     "execution_count": 159,
     "metadata": {},
     "output_type": "execute_result"
    }
   ],
   "source": [
    "ques_intent_lemms = 'dog'\n",
    "reg_search_str = '.*(' + ques_intent_lemms + ').*'\n",
    "reg_search_str"
   ]
  },
  {
   "cell_type": "code",
   "execution_count": null,
   "metadata": {},
   "outputs": [],
   "source": []
  }
 ],
 "metadata": {
  "kernelspec": {
   "display_name": "Python 3",
   "language": "python",
   "name": "python3"
  },
  "language_info": {
   "codemirror_mode": {
    "name": "ipython",
    "version": 3
   },
   "file_extension": ".py",
   "mimetype": "text/x-python",
   "name": "python",
   "nbconvert_exporter": "python",
   "pygments_lexer": "ipython3",
   "version": "3.5.2"
  }
 },
 "nbformat": 4,
 "nbformat_minor": 2
}
