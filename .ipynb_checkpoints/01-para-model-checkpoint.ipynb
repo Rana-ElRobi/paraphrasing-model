{
 "cells": [
  {
   "cell_type": "markdown",
   "metadata": {},
   "source": [
    "Import needed packages"
   ]
  },
  {
   "cell_type": "code",
   "execution_count": 42,
   "metadata": {},
   "outputs": [],
   "source": [
    "import csv\n",
    "import string\n",
    "import nltk\n",
    "from nltk.tokenize import word_tokenize\n",
    "from nltk.tokenize import RegexpTokenizer\n",
    "from nltk.corpus import stopwords\n",
    "from nltk.stem import WordNetLemmatizer"
   ]
  },
  {
   "cell_type": "code",
   "execution_count": 18,
   "metadata": {},
   "outputs": [
    {
     "data": {
      "text/plain": [
       "['can you tell me more about the co-creation room?', 'about']"
      ]
     },
     "execution_count": 18,
     "metadata": {},
     "output_type": "execute_result"
    }
   ],
   "source": [
    "data_set = csv.reader(open('NBB_intents.csv'), delimiter=',', quotechar='|')\n",
    "# read one sample for simple building for the model\n",
    "for row in data_set:\n",
    "     curr_senten = row;break\n",
    "curr_senten"
   ]
  },
  {
   "cell_type": "markdown",
   "metadata": {},
   "source": [
    "Word Tokenize current sample question"
   ]
  },
  {
   "cell_type": "markdown",
   "metadata": {},
   "source": [
    "This way of removing punctuation before tokenizing words may cause miss lead in woreds like in \"co-creation\" it split it into \"co\" and \"creation\" even its one word,\n",
    "so I cleaned the punctuation after word tokenizing"
   ]
  },
  {
   "cell_type": "code",
   "execution_count": 40,
   "metadata": {},
   "outputs": [
    {
     "name": "stdout",
     "output_type": "stream",
     "text": [
      "words list without puncituation :  ['can', 'you', 'tell', 'me', 'more', 'about', 'the', 'co', 'creation', 'room']\n"
     ]
    }
   ],
   "source": [
    "# remove puncituation ## Not used one\n",
    "tokenizer = RegexpTokenizer(r'\\w+')\n",
    "words =  tokenizer.tokenize(curr_senten[0])\n",
    "print (\"words list without puncituation : \", words)"
   ]
  },
  {
   "cell_type": "code",
   "execution_count": 52,
   "metadata": {},
   "outputs": [
    {
     "name": "stdout",
     "output_type": "stream",
     "text": [
      "words list with punc:  ['can', 'you', 'tell', 'me', 'more', 'about', 'the', 'co-creation', 'room', '?']\n"
     ]
    }
   ],
   "source": [
    "words_pun = word_tokenize(curr_senten[0]) ## used one\n",
    "print (\"words list with punc: \", words_pun)"
   ]
  },
  {
   "cell_type": "markdown",
   "metadata": {},
   "source": [
    "Remove punctuation after word tokenizing"
   ]
  },
  {
   "cell_type": "code",
   "execution_count": 53,
   "metadata": {},
   "outputs": [
    {
     "name": "stdout",
     "output_type": "stream",
     "text": [
      "['can', 'you', 'tell', 'me', 'more', 'about', 'the', 'co-creation', 'room']\n"
     ]
    }
   ],
   "source": [
    "punct = set(string.punctuation)\n",
    "real_words= [x for x in words_pun if x not in punct]\n",
    "print( real_words)"
   ]
  },
  {
   "cell_type": "markdown",
   "metadata": {},
   "source": [
    "Remove stop words"
   ]
  },
  {
   "cell_type": "code",
   "execution_count": 54,
   "metadata": {},
   "outputs": [
    {
     "name": "stdout",
     "output_type": "stream",
     "text": [
      "filtered_words :  ['tell', 'co-creation', 'room']\n"
     ]
    }
   ],
   "source": [
    "stop_words = set(stopwords.words(\"english\")) \n",
    "# all common stop words in english language\n",
    "filtered_words = [w for w in real_words if not w in stop_words]\n",
    "print(\"filtered_words : \",filtered_words)"
   ]
  },
  {
   "cell_type": "markdown",
   "metadata": {},
   "source": [
    "Annotate words (get tags for filtered_words)"
   ]
  },
  {
   "cell_type": "code",
   "execution_count": 55,
   "metadata": {},
   "outputs": [
    {
     "name": "stdout",
     "output_type": "stream",
     "text": [
      "words_tags :  [('tell', 'VB'), ('co-creation', 'NN'), ('room', 'NN')]\n"
     ]
    }
   ],
   "source": [
    "words_tags = nltk.pos_tag(filtered_words)\n",
    "print (\"words_tags : \",words_tags)"
   ]
  },
  {
   "cell_type": "markdown",
   "metadata": {},
   "source": [
    "Lemmetizing Words "
   ]
  },
  {
   "cell_type": "code",
   "execution_count": 59,
   "metadata": {},
   "outputs": [
    {
     "name": "stdout",
     "output_type": "stream",
     "text": [
      "tell v\n",
      "co-creation n\n",
      "room n\n",
      "words_lemms :  ['tell', 'co-creation', 'room']\n"
     ]
    }
   ],
   "source": [
    "lemmatizer = WordNetLemmatizer()\n",
    "words_lemms = []\n",
    "for (w,t) in words_tags:\n",
    "    #print (w,t[0].lower())\n",
    "    words_lemms.append(lemmatizer.lemmatize(w,pos=t[0].lower()))\n",
    "print(\"words_lemms : \", words_lemms)"
   ]
  },
  {
   "cell_type": "code",
   "execution_count": null,
   "metadata": {},
   "outputs": [],
   "source": []
  }
 ],
 "metadata": {
  "kernelspec": {
   "display_name": "Python 3",
   "language": "python",
   "name": "python3"
  },
  "language_info": {
   "codemirror_mode": {
    "name": "ipython",
    "version": 3
   },
   "file_extension": ".py",
   "mimetype": "text/x-python",
   "name": "python",
   "nbconvert_exporter": "python",
   "pygments_lexer": "ipython3",
   "version": "3.5.2"
  }
 },
 "nbformat": 4,
 "nbformat_minor": 2
}
