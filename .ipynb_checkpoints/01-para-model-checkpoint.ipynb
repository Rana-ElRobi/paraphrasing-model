{
 "cells": [
  {
   "cell_type": "markdown",
   "metadata": {},
   "source": [
    "Import needed packages"
   ]
  },
  {
   "cell_type": "code",
   "execution_count": 24,
   "metadata": {},
   "outputs": [],
   "source": [
    "import csv\n",
    "import nltk\n",
    "from nltk.tokenize import word_tokenize\n",
    "from nltk.corpus import stopwords\n",
    "from nltk.stem import WordNetLemmatizer"
   ]
  },
  {
   "cell_type": "code",
   "execution_count": 18,
   "metadata": {},
   "outputs": [
    {
     "data": {
      "text/plain": [
       "['can you tell me more about the co-creation room?', 'about']"
      ]
     },
     "execution_count": 18,
     "metadata": {},
     "output_type": "execute_result"
    }
   ],
   "source": [
    "data_set = csv.reader(open('NBB_intents.csv'), delimiter=',', quotechar='|')\n",
    "# read one sample for simple building for the model\n",
    "for row in data_set:\n",
    "     curr_senten = row;break\n",
    "curr_senten"
   ]
  },
  {
   "cell_type": "markdown",
   "metadata": {},
   "source": [
    "Word Tokenize current sample question"
   ]
  },
  {
   "cell_type": "code",
   "execution_count": 21,
   "metadata": {},
   "outputs": [
    {
     "name": "stdout",
     "output_type": "stream",
     "text": [
      "words list :  ['can', 'you', 'tell', 'me', 'more', 'about', 'the', 'co-creation', 'room', '?']\n"
     ]
    }
   ],
   "source": [
    "words = word_tokenize(curr_senten[0])\n",
    "print (\"words list : \", words)"
   ]
  },
  {
   "cell_type": "markdown",
   "metadata": {},
   "source": [
    "Remove stop words"
   ]
  },
  {
   "cell_type": "code",
   "execution_count": 22,
   "metadata": {},
   "outputs": [
    {
     "name": "stdout",
     "output_type": "stream",
     "text": [
      "filtered_words :  ['tell', 'co-creation', 'room', '?']\n"
     ]
    }
   ],
   "source": [
    "stop_words = set(stopwords.words(\"english\")) \n",
    "# all common stop words in english language\n",
    "filtered_words = [w for w in words if not w in stop_words]\n",
    "print(\"filtered_words : \",filtered_words)"
   ]
  },
  {
   "cell_type": "markdown",
   "metadata": {},
   "source": [
    "Annotate words (get tags for filtered_words)"
   ]
  },
  {
   "cell_type": "code",
   "execution_count": 25,
   "metadata": {},
   "outputs": [
    {
     "name": "stdout",
     "output_type": "stream",
     "text": [
      "words_tags :  [('tell', 'VB'), ('co-creation', 'NN'), ('room', 'NN'), ('?', '.')]\n"
     ]
    }
   ],
   "source": [
    "words_tags = nltk.pos_tag(filtered_words)\n",
    "print (\"words_tags : \",words_tags)"
   ]
  },
  {
   "cell_type": "code",
   "execution_count": null,
   "metadata": {},
   "outputs": [],
   "source": []
  }
 ],
 "metadata": {
  "kernelspec": {
   "display_name": "Python 3",
   "language": "python",
   "name": "python3"
  },
  "language_info": {
   "codemirror_mode": {
    "name": "ipython",
    "version": 3
   },
   "file_extension": ".py",
   "mimetype": "text/x-python",
   "name": "python",
   "nbconvert_exporter": "python",
   "pygments_lexer": "ipython3",
   "version": "3.5.2"
  }
 },
 "nbformat": 4,
 "nbformat_minor": 2
}
