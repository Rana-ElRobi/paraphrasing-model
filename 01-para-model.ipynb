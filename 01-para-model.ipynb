{
 "cells": [
  {
   "cell_type": "markdown",
   "metadata": {},
   "source": [
    "Import needed packages"
   ]
  },
  {
   "cell_type": "code",
   "execution_count": 116,
   "metadata": {},
   "outputs": [],
   "source": [
    "import csv\n",
    "import string\n",
    "import nltk\n",
    "from nltk.tokenize import word_tokenize\n",
    "from nltk.tokenize import RegexpTokenizer\n",
    "from nltk.corpus import stopwords\n",
    "from nltk import pos_tag\n",
    "from nltk.stem import WordNetLemmatizer"
   ]
  },
  {
   "cell_type": "markdown",
   "metadata": {},
   "source": [
    "Function maps tags to pos in lemmetizing"
   ]
  },
  {
   "cell_type": "code",
   "execution_count": 120,
   "metadata": {},
   "outputs": [],
   "source": [
    "# WordNet only cares about 5 parts of speech.\n",
    "# The other parts of speech will be tagged as nouns.\n",
    "\n",
    "part = {\n",
    "    'N' : 'n',\n",
    "    'V' : 'v',\n",
    "    'J' : 'a',\n",
    "    'S' : 's',\n",
    "    'R' : 'r'\n",
    "}\n",
    "\n",
    "def convert_tag(penn_tag):\n",
    "    '''\n",
    "    convert_tag() accepts the **first letter** of a Penn part-of-speech tag,\n",
    "    then uses a dict lookup to convert it to the appropriate WordNet tag.\n",
    "    '''\n",
    "    if penn_tag in part.keys():\n",
    "        return part[penn_tag]\n",
    "    else:\n",
    "        # other parts of speech will be tagged as nouns\n",
    "        return 'n'"
   ]
  },
  {
   "cell_type": "markdown",
   "metadata": {},
   "source": [
    "Function that do all the pre-processing on given data\n",
    "- set all characters to lowercase\n",
    "- apply word tokenize\n",
    "- remove puncituation from the list of words\n",
    "- filter out the stop words\n",
    "- Annotate filtered words\n",
    "- lemmetize words using tags\n",
    "- return final lemmetization resultant words "
   ]
  },
  {
   "cell_type": "code",
   "execution_count": 121,
   "metadata": {},
   "outputs": [],
   "source": [
    "# clean input data and return output in data-fram formate\n",
    "def cleanData (senten):\n",
    "    ## make all characters lower case\n",
    "    senten = senten.lower()\n",
    "    \n",
    "    ## Word Tokenize current sample question\n",
    "    words_pun = word_tokenize(senten) ## used one\n",
    "    #print (\"words list with punc: \", words_pun)\n",
    "    \n",
    "    ## Remove punctuation after word tokenizing\n",
    "    punct = set(string.punctuation)\n",
    "    #print(punct)\n",
    "    real_words= [x for x in words_pun if x not in punct]\n",
    "    #print( \"real_words without punctuation : \",real_words)\n",
    "    \n",
    "    ## Remove all common stop words in english language\n",
    "    stop_words = set(stopwords.words(\"english\"))\n",
    "    filtered_words = [w for w in real_words if not w in stop_words]\n",
    "    #print(\"filtered_words : \",filtered_words)\n",
    "    \n",
    "    ## Annotate words (get tags for filtered_words)\n",
    "    words_tags = nltk.pos_tag(filtered_words)\n",
    "    #print (\"words_tags : \",words_tags)\n",
    "    \n",
    "    ## Lemmetizing Words\n",
    "    lemmatizer = WordNetLemmatizer()\n",
    "    words_lemms = []\n",
    "    for (w,t) in words_tags:\n",
    "        #print (w,convert_tag(t[0]))\n",
    "        words_lemms.append(lemmatizer.lemmatize(w,pos=convert_tag(t[0])))\n",
    "    #print(\"words_lemms : \", words_lemms)\n",
    "    return (words_lemms)\n"
   ]
  },
  {
   "cell_type": "markdown",
   "metadata": {},
   "source": [
    "## Here is the Main body of the file"
   ]
  },
  {
   "cell_type": "markdown",
   "metadata": {},
   "source": [
    "### Pre-processing"
   ]
  },
  {
   "cell_type": "markdown",
   "metadata": {},
   "source": [
    "- First Lets load the Data "
   ]
  },
  {
   "cell_type": "code",
   "execution_count": 137,
   "metadata": {
    "scrolled": true
   },
   "outputs": [],
   "source": [
    "data_set = csv.reader(open('NBB_intents.csv'), delimiter=',',quoting=csv.QUOTE_NONE,skipinitialspace=True)\n",
    "# creat new list for data after re-shaping\n",
    "new_dataset = []"
   ]
  },
  {
   "cell_type": "markdown",
   "metadata": {},
   "source": [
    "- Clean and reshape input data"
   ]
  },
  {
   "cell_type": "code",
   "execution_count": 139,
   "metadata": {},
   "outputs": [],
   "source": [
    "# read all questions samples \n",
    "for row in data_set:\n",
    "    curr_senten = row\n",
    "    # new set [\"intent\",[\"cleaned question words\"]]\n",
    "    new_dataset.append([curr_senten[1],cleanData(curr_senten[0])])\n",
    "    "
   ]
  },
  {
   "cell_type": "markdown",
   "metadata": {},
   "source": [
    "- View sample of re-shaped data "
   ]
  },
  {
   "cell_type": "code",
   "execution_count": 140,
   "metadata": {},
   "outputs": [
    {
     "name": "stdout",
     "output_type": "stream",
     "text": [
      "record 1 :  ['about', ['tell', 'co-creation', 'room']]\n",
      "record 1, part 2 :  ['tell', 'co-creation', 'room']\n"
     ]
    }
   ],
   "source": [
    "print(\"record 1 : \",new_dataset[0])\n",
    "print(\"record 1, part 2 : \",new_dataset[0][1])"
   ]
  },
  {
   "cell_type": "markdown",
   "metadata": {},
   "source": [
    "> Now, Lets do simple classification for sentence "
   ]
  },
  {
   "cell_type": "markdown",
   "metadata": {},
   "source": [
    "## Simple questions classifier "
   ]
  }
 ],
 "metadata": {
  "kernelspec": {
   "display_name": "Python 3",
   "language": "python",
   "name": "python3"
  },
  "language_info": {
   "codemirror_mode": {
    "name": "ipython",
    "version": 3
   },
   "file_extension": ".py",
   "mimetype": "text/x-python",
   "name": "python",
   "nbconvert_exporter": "python",
   "pygments_lexer": "ipython3",
   "version": "3.5.2"
  }
 },
 "nbformat": 4,
 "nbformat_minor": 2
}
